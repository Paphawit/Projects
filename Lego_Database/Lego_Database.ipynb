{
 "cells": [
  {
   "cell_type": "markdown",
   "metadata": {},
   "source": [
    "# Lego Database"
   ]
  },
  {
   "cell_type": "markdown",
   "metadata": {},
   "source": [
    "## Step 1: Explore the dataset"
   ]
  },
  {
   "cell_type": "code",
   "execution_count": 4,
   "metadata": {},
   "outputs": [],
   "source": [
    "import pandas as pd"
   ]
  },
  {
   "cell_type": "code",
   "execution_count": 5,
   "metadata": {},
   "outputs": [],
   "source": [
    "import os\n",
    "cwd = os.getcwd()"
   ]
  },
  {
   "cell_type": "code",
   "execution_count": 15,
   "metadata": {},
   "outputs": [],
   "source": [
    "from os import walk\n",
    "file = []\n",
    "for (dirpath, dirnames, filenames) in walk(cwd):\n",
    "    file.extend(filenames)\n",
    "    break"
   ]
  },
  {
   "cell_type": "code",
   "execution_count": 16,
   "metadata": {},
   "outputs": [
    {
     "data": {
      "text/plain": [
       "['colors.csv',\n",
       " 'downloads_schema.png',\n",
       " 'inventories.csv',\n",
       " 'inventory_parts.csv',\n",
       " 'inventory_sets.csv',\n",
       " 'Lego_Database.ipynb',\n",
       " 'parts.csv',\n",
       " 'part_categories.csv',\n",
       " 'sets.csv',\n",
       " 'themes.csv']"
      ]
     },
     "execution_count": 16,
     "metadata": {},
     "output_type": "execute_result"
    }
   ],
   "source": [
    "file"
   ]
  },
  {
   "cell_type": "markdown",
   "metadata": {},
   "source": [
    "### colors.csv"
   ]
  },
  {
   "cell_type": "code",
   "execution_count": 21,
   "metadata": {},
   "outputs": [
    {
     "data": {
      "text/html": [
       "<div>\n",
       "<style scoped>\n",
       "    .dataframe tbody tr th:only-of-type {\n",
       "        vertical-align: middle;\n",
       "    }\n",
       "\n",
       "    .dataframe tbody tr th {\n",
       "        vertical-align: top;\n",
       "    }\n",
       "\n",
       "    .dataframe thead th {\n",
       "        text-align: right;\n",
       "    }\n",
       "</style>\n",
       "<table border=\"1\" class=\"dataframe\">\n",
       "  <thead>\n",
       "    <tr style=\"text-align: right;\">\n",
       "      <th></th>\n",
       "      <th>id</th>\n",
       "      <th>name</th>\n",
       "      <th>rgb</th>\n",
       "      <th>is_trans</th>\n",
       "    </tr>\n",
       "  </thead>\n",
       "  <tbody>\n",
       "    <tr>\n",
       "      <th>0</th>\n",
       "      <td>-1</td>\n",
       "      <td>Unknown</td>\n",
       "      <td>0033B2</td>\n",
       "      <td>f</td>\n",
       "    </tr>\n",
       "    <tr>\n",
       "      <th>1</th>\n",
       "      <td>0</td>\n",
       "      <td>Black</td>\n",
       "      <td>05131D</td>\n",
       "      <td>f</td>\n",
       "    </tr>\n",
       "    <tr>\n",
       "      <th>2</th>\n",
       "      <td>1</td>\n",
       "      <td>Blue</td>\n",
       "      <td>0055BF</td>\n",
       "      <td>f</td>\n",
       "    </tr>\n",
       "    <tr>\n",
       "      <th>3</th>\n",
       "      <td>2</td>\n",
       "      <td>Green</td>\n",
       "      <td>237841</td>\n",
       "      <td>f</td>\n",
       "    </tr>\n",
       "    <tr>\n",
       "      <th>4</th>\n",
       "      <td>3</td>\n",
       "      <td>Dark Turquoise</td>\n",
       "      <td>008F9B</td>\n",
       "      <td>f</td>\n",
       "    </tr>\n",
       "  </tbody>\n",
       "</table>\n",
       "</div>"
      ],
      "text/plain": [
       "   id            name     rgb is_trans\n",
       "0  -1         Unknown  0033B2        f\n",
       "1   0           Black  05131D        f\n",
       "2   1            Blue  0055BF        f\n",
       "3   2           Green  237841        f\n",
       "4   3  Dark Turquoise  008F9B        f"
      ]
     },
     "execution_count": 21,
     "metadata": {},
     "output_type": "execute_result"
    }
   ],
   "source": [
    "colors_df = pd.read_csv('colors.csv')\n",
    "colors_df.head()"
   ]
  },
  {
   "cell_type": "code",
   "execution_count": 25,
   "metadata": {},
   "outputs": [
    {
     "name": "stdout",
     "output_type": "stream",
     "text": [
      "<class 'pandas.core.frame.DataFrame'>\n",
      "RangeIndex: 135 entries, 0 to 134\n",
      "Data columns (total 4 columns):\n",
      "id          135 non-null int64\n",
      "name        135 non-null object\n",
      "rgb         135 non-null object\n",
      "is_trans    135 non-null object\n",
      "dtypes: int64(1), object(3)\n",
      "memory usage: 4.3+ KB\n"
     ]
    }
   ],
   "source": [
    "colors_df.info()"
   ]
  },
  {
   "cell_type": "code",
   "execution_count": 37,
   "metadata": {},
   "outputs": [
    {
     "data": {
      "text/plain": [
       "array(['Unknown', 'Black', 'Blue', 'Green', 'Dark Turquoise', 'Red',\n",
       "       'Dark Pink', 'Brown', 'Light Gray', 'Dark Gray', 'Light Blue',\n",
       "       'Bright Green', 'Light Turquoise', 'Salmon', 'Pink', 'Yellow',\n",
       "       'White', 'Light Green', 'Light Yellow', 'Tan', 'Light Violet',\n",
       "       'Glow In Dark Opaque', 'Purple', 'Dark Blue-Violet', 'Orange',\n",
       "       'Magenta', 'Lime', 'Dark Tan', 'Bright Pink', 'Medium Lavender',\n",
       "       'Lavender', 'Trans-Black IR Lens', 'Trans-Dark Blue',\n",
       "       'Trans-Green', 'Trans-Bright Green', 'Trans-Red', 'Trans-Black',\n",
       "       'Trans-Light Blue', 'Trans-Neon Green', 'Trans-Very Lt Blue',\n",
       "       'Trans-Dark Pink', 'Trans-Yellow', 'Trans-Clear', 'Trans-Purple',\n",
       "       'Trans-Neon Yellow', 'Trans-Neon Orange', 'Chrome Antique Brass',\n",
       "       'Chrome Blue', 'Chrome Green', 'Chrome Pink', 'Chrome Black',\n",
       "       'Very Light Orange', 'Light Purple', 'Reddish Brown',\n",
       "       'Light Bluish Gray', 'Dark Bluish Gray', 'Medium Blue',\n",
       "       'Medium Green', 'Speckle Black-Copper', 'Speckle DBGray-Silver',\n",
       "       'Light Pink', 'Light Flesh', 'Milky White', 'Metallic Silver',\n",
       "       'Metallic Green', 'Metallic Gold', 'Medium Dark Flesh',\n",
       "       'Dark Purple', 'Dark Flesh', 'Royal Blue', 'Flesh', 'Light Salmon',\n",
       "       'Violet', 'Blue-Violet', 'Glitter Trans-Dark Pink', 'Medium Lime',\n",
       "       'Glitter Trans-Clear', 'Aqua', 'Light Lime', 'Light Orange',\n",
       "       'Glitter Trans-Purple', 'Speckle Black-Silver',\n",
       "       'Speckle Black-Gold', 'Copper', 'Pearl Light Gray', 'Metal Blue',\n",
       "       'Pearl Light Gold', 'Trans-Medium Blue', 'Pearl Dark Gray',\n",
       "       'Pearl Very Light Gray', 'Very Light Bluish Gray',\n",
       "       'Yellowish Green', 'Flat Dark Gold', 'Flat Silver', 'Trans-Orange',\n",
       "       'Pearl White', 'Bright Light Orange', 'Bright Light Blue', 'Rust',\n",
       "       'Bright Light Yellow', 'Trans-Pink', 'Sky Blue',\n",
       "       'Trans-Light Purple', 'Dark Blue', 'Dark Green',\n",
       "       'Glow In Dark Trans', 'Pearl Gold', 'Dark Brown', 'Maersk Blue',\n",
       "       'Dark Red', 'Dark Azure', 'Medium Azure', 'Light Aqua',\n",
       "       'Olive Green', 'Chrome Gold', 'Sand Red', 'Medium Dark Pink',\n",
       "       'Earth Orange', 'Sand Purple', 'Sand Green', 'Sand Blue',\n",
       "       'Chrome Silver', 'Fabuland Brown', 'Medium Orange', 'Dark Orange',\n",
       "       'Very Light Gray', 'Glow in Dark White', 'Medium Violet',\n",
       "       'Glitter Trans-Neon Green', 'Glitter Trans-Light Blue',\n",
       "       'Trans Flame Yellowish Orange', 'Trans Fire Yellow',\n",
       "       'Trans Light Royal Blue', 'Reddish Lilac', '[No Color]'],\n",
       "      dtype=object)"
      ]
     },
     "execution_count": 37,
     "metadata": {},
     "output_type": "execute_result"
    }
   ],
   "source": [
    "colors_df.name.unique()"
   ]
  },
  {
   "cell_type": "code",
   "execution_count": 40,
   "metadata": {},
   "outputs": [
    {
     "data": {
      "text/plain": [
       "135"
      ]
     },
     "execution_count": 40,
     "metadata": {},
     "output_type": "execute_result"
    }
   ],
   "source": [
    "colors_df.name.nunique()"
   ]
  },
  {
   "cell_type": "markdown",
   "metadata": {},
   "source": [
    "### inventories.csv"
   ]
  },
  {
   "cell_type": "code",
   "execution_count": 43,
   "metadata": {},
   "outputs": [
    {
     "data": {
      "text/html": [
       "<div>\n",
       "<style scoped>\n",
       "    .dataframe tbody tr th:only-of-type {\n",
       "        vertical-align: middle;\n",
       "    }\n",
       "\n",
       "    .dataframe tbody tr th {\n",
       "        vertical-align: top;\n",
       "    }\n",
       "\n",
       "    .dataframe thead th {\n",
       "        text-align: right;\n",
       "    }\n",
       "</style>\n",
       "<table border=\"1\" class=\"dataframe\">\n",
       "  <thead>\n",
       "    <tr style=\"text-align: right;\">\n",
       "      <th></th>\n",
       "      <th>id</th>\n",
       "      <th>version</th>\n",
       "      <th>set_num</th>\n",
       "    </tr>\n",
       "  </thead>\n",
       "  <tbody>\n",
       "    <tr>\n",
       "      <th>0</th>\n",
       "      <td>1</td>\n",
       "      <td>1</td>\n",
       "      <td>7922-1</td>\n",
       "    </tr>\n",
       "    <tr>\n",
       "      <th>1</th>\n",
       "      <td>3</td>\n",
       "      <td>1</td>\n",
       "      <td>3931-1</td>\n",
       "    </tr>\n",
       "    <tr>\n",
       "      <th>2</th>\n",
       "      <td>4</td>\n",
       "      <td>1</td>\n",
       "      <td>6942-1</td>\n",
       "    </tr>\n",
       "    <tr>\n",
       "      <th>3</th>\n",
       "      <td>15</td>\n",
       "      <td>1</td>\n",
       "      <td>5158-1</td>\n",
       "    </tr>\n",
       "    <tr>\n",
       "      <th>4</th>\n",
       "      <td>16</td>\n",
       "      <td>1</td>\n",
       "      <td>903-1</td>\n",
       "    </tr>\n",
       "  </tbody>\n",
       "</table>\n",
       "</div>"
      ],
      "text/plain": [
       "   id  version set_num\n",
       "0   1        1  7922-1\n",
       "1   3        1  3931-1\n",
       "2   4        1  6942-1\n",
       "3  15        1  5158-1\n",
       "4  16        1   903-1"
      ]
     },
     "execution_count": 43,
     "metadata": {},
     "output_type": "execute_result"
    }
   ],
   "source": [
    "inventories_df = pd.read_csv('inventories.csv')\n",
    "inventories_df.head()"
   ]
  },
  {
   "cell_type": "code",
   "execution_count": 47,
   "metadata": {},
   "outputs": [
    {
     "name": "stdout",
     "output_type": "stream",
     "text": [
      "<class 'pandas.core.frame.DataFrame'>\n",
      "RangeIndex: 11681 entries, 0 to 11680\n",
      "Data columns (total 3 columns):\n",
      "id         11681 non-null int64\n",
      "version    11681 non-null int64\n",
      "set_num    11681 non-null object\n",
      "dtypes: int64(2), object(1)\n",
      "memory usage: 273.9+ KB\n"
     ]
    }
   ],
   "source": [
    "inventories_df.info()"
   ]
  },
  {
   "cell_type": "markdown",
   "metadata": {},
   "source": [
    "### inventory_parts.csv"
   ]
  },
  {
   "cell_type": "code",
   "execution_count": 51,
   "metadata": {},
   "outputs": [
    {
     "data": {
      "text/html": [
       "<div>\n",
       "<style scoped>\n",
       "    .dataframe tbody tr th:only-of-type {\n",
       "        vertical-align: middle;\n",
       "    }\n",
       "\n",
       "    .dataframe tbody tr th {\n",
       "        vertical-align: top;\n",
       "    }\n",
       "\n",
       "    .dataframe thead th {\n",
       "        text-align: right;\n",
       "    }\n",
       "</style>\n",
       "<table border=\"1\" class=\"dataframe\">\n",
       "  <thead>\n",
       "    <tr style=\"text-align: right;\">\n",
       "      <th></th>\n",
       "      <th>inventory_id</th>\n",
       "      <th>part_num</th>\n",
       "      <th>color_id</th>\n",
       "      <th>quantity</th>\n",
       "      <th>is_spare</th>\n",
       "    </tr>\n",
       "  </thead>\n",
       "  <tbody>\n",
       "    <tr>\n",
       "      <th>0</th>\n",
       "      <td>1</td>\n",
       "      <td>48379c01</td>\n",
       "      <td>72</td>\n",
       "      <td>1</td>\n",
       "      <td>f</td>\n",
       "    </tr>\n",
       "    <tr>\n",
       "      <th>1</th>\n",
       "      <td>1</td>\n",
       "      <td>48395</td>\n",
       "      <td>7</td>\n",
       "      <td>1</td>\n",
       "      <td>f</td>\n",
       "    </tr>\n",
       "    <tr>\n",
       "      <th>2</th>\n",
       "      <td>1</td>\n",
       "      <td>mcsport6</td>\n",
       "      <td>25</td>\n",
       "      <td>1</td>\n",
       "      <td>f</td>\n",
       "    </tr>\n",
       "    <tr>\n",
       "      <th>3</th>\n",
       "      <td>1</td>\n",
       "      <td>paddle</td>\n",
       "      <td>0</td>\n",
       "      <td>1</td>\n",
       "      <td>f</td>\n",
       "    </tr>\n",
       "    <tr>\n",
       "      <th>4</th>\n",
       "      <td>3</td>\n",
       "      <td>11816pr0005</td>\n",
       "      <td>78</td>\n",
       "      <td>1</td>\n",
       "      <td>f</td>\n",
       "    </tr>\n",
       "  </tbody>\n",
       "</table>\n",
       "</div>"
      ],
      "text/plain": [
       "   inventory_id     part_num  color_id  quantity is_spare\n",
       "0             1     48379c01        72         1        f\n",
       "1             1        48395         7         1        f\n",
       "2             1     mcsport6        25         1        f\n",
       "3             1       paddle         0         1        f\n",
       "4             3  11816pr0005        78         1        f"
      ]
     },
     "execution_count": 51,
     "metadata": {},
     "output_type": "execute_result"
    }
   ],
   "source": [
    "inventory_parts_df = pd.read_csv('inventory_parts.csv')\n",
    "inventory_parts_df.head()"
   ]
  },
  {
   "cell_type": "code",
   "execution_count": 54,
   "metadata": {},
   "outputs": [
    {
     "name": "stdout",
     "output_type": "stream",
     "text": [
      "<class 'pandas.core.frame.DataFrame'>\n",
      "RangeIndex: 580251 entries, 0 to 580250\n",
      "Data columns (total 5 columns):\n",
      "inventory_id    580251 non-null int64\n",
      "part_num        580251 non-null object\n",
      "color_id        580251 non-null int64\n",
      "quantity        580251 non-null int64\n",
      "is_spare        580251 non-null object\n",
      "dtypes: int64(3), object(2)\n",
      "memory usage: 22.1+ MB\n"
     ]
    }
   ],
   "source": [
    "inventory_parts_df.info()"
   ]
  }
 ],
 "metadata": {
  "kernelspec": {
   "display_name": "Python 3",
   "language": "python",
   "name": "python3"
  },
  "language_info": {
   "codemirror_mode": {
    "name": "ipython",
    "version": 3
   },
   "file_extension": ".py",
   "mimetype": "text/x-python",
   "name": "python",
   "nbconvert_exporter": "python",
   "pygments_lexer": "ipython3",
   "version": "3.7.0"
  }
 },
 "nbformat": 4,
 "nbformat_minor": 2
}
